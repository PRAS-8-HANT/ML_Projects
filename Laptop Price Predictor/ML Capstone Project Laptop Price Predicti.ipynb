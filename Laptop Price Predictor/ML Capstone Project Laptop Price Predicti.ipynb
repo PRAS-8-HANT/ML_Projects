{
 "cells": [
  {
   "cell_type": "code",
   "execution_count": 1,
   "id": "3bb42c5b",
   "metadata": {},
   "outputs": [],
   "source": [
    "import numpy as np\n",
    "import pandas as pd \n",
    "import plotly.express as px\n",
    "import sklearn\n",
    "from sklearn.preprocessing import StandardScaler\n",
    "from sklearn.preprocessing import MinMaxScaler\n",
    "import missingno as mi\n",
    "import seaborn as sns\n",
    "\n",
    "import warnings\n",
    "warnings.filterwarnings('ignore')"
   ]
  },
  {
   "cell_type": "code",
   "execution_count": 2,
   "id": "774708da",
   "metadata": {
    "scrolled": true
   },
   "outputs": [
    {
     "data": {
      "text/html": [
       "<div>\n",
       "<style scoped>\n",
       "    .dataframe tbody tr th:only-of-type {\n",
       "        vertical-align: middle;\n",
       "    }\n",
       "\n",
       "    .dataframe tbody tr th {\n",
       "        vertical-align: top;\n",
       "    }\n",
       "\n",
       "    .dataframe thead th {\n",
       "        text-align: right;\n",
       "    }\n",
       "</style>\n",
       "<table border=\"1\" class=\"dataframe\">\n",
       "  <thead>\n",
       "    <tr style=\"text-align: right;\">\n",
       "      <th></th>\n",
       "      <th>Unnamed: 0.1</th>\n",
       "      <th>Unnamed: 0</th>\n",
       "      <th>Company</th>\n",
       "      <th>TypeName</th>\n",
       "      <th>Inches</th>\n",
       "      <th>ScreenResolution</th>\n",
       "      <th>Cpu</th>\n",
       "      <th>Ram</th>\n",
       "      <th>Memory</th>\n",
       "      <th>Gpu</th>\n",
       "      <th>OpSys</th>\n",
       "      <th>Weight</th>\n",
       "      <th>Price</th>\n",
       "    </tr>\n",
       "  </thead>\n",
       "  <tbody>\n",
       "    <tr>\n",
       "      <th>29</th>\n",
       "      <td>29</td>\n",
       "      <td>29.0</td>\n",
       "      <td>HP</td>\n",
       "      <td>Notebook</td>\n",
       "      <td>17.3</td>\n",
       "      <td>Full HD 1920x1080</td>\n",
       "      <td>Intel Core i5 8250U 1.6GHz</td>\n",
       "      <td>8GB</td>\n",
       "      <td>1TB HDD</td>\n",
       "      <td>Nvidia GeForce 930MX</td>\n",
       "      <td>Windows 10</td>\n",
       "      <td>2.5kg</td>\n",
       "      <td>47738.880</td>\n",
       "    </tr>\n",
       "    <tr>\n",
       "      <th>348</th>\n",
       "      <td>348</td>\n",
       "      <td>348.0</td>\n",
       "      <td>Asus</td>\n",
       "      <td>2 in 1 Convertible</td>\n",
       "      <td>11.6</td>\n",
       "      <td>Touchscreen 1366x768</td>\n",
       "      <td>Intel Celeron Dual Core N3350 1.1GHz</td>\n",
       "      <td>4GB</td>\n",
       "      <td>32GB Flash Storage</td>\n",
       "      <td>Intel HD Graphics 500</td>\n",
       "      <td>Windows 10</td>\n",
       "      <td>1.5kg</td>\n",
       "      <td>19980.000</td>\n",
       "    </tr>\n",
       "    <tr>\n",
       "      <th>81</th>\n",
       "      <td>81</td>\n",
       "      <td>81.0</td>\n",
       "      <td>Apple</td>\n",
       "      <td>Ultrabook</td>\n",
       "      <td>12.0</td>\n",
       "      <td>IPS Panel Retina Display 2304x1440</td>\n",
       "      <td>Intel Core i5 1.3GHz</td>\n",
       "      <td>8GB</td>\n",
       "      <td>512GB SSD</td>\n",
       "      <td>Intel HD Graphics 615</td>\n",
       "      <td>macOS</td>\n",
       "      <td>0.92kg</td>\n",
       "      <td>80452.800</td>\n",
       "    </tr>\n",
       "    <tr>\n",
       "      <th>368</th>\n",
       "      <td>368</td>\n",
       "      <td>368.0</td>\n",
       "      <td>Dell</td>\n",
       "      <td>Notebook</td>\n",
       "      <td>15.6</td>\n",
       "      <td>Full HD 1920x1080</td>\n",
       "      <td>Intel Core i7 7500U 2.7GHz</td>\n",
       "      <td>8GB</td>\n",
       "      <td>256GB SSD</td>\n",
       "      <td>AMD Radeon R7 M445</td>\n",
       "      <td>Windows 10</td>\n",
       "      <td>2.33kg</td>\n",
       "      <td>47898.720</td>\n",
       "    </tr>\n",
       "    <tr>\n",
       "      <th>317</th>\n",
       "      <td>317</td>\n",
       "      <td>317.0</td>\n",
       "      <td>Lenovo</td>\n",
       "      <td>Notebook</td>\n",
       "      <td>13.3</td>\n",
       "      <td>1366x768</td>\n",
       "      <td>Intel Celeron Dual Core 3855U 1.6GHz</td>\n",
       "      <td>4GB</td>\n",
       "      <td>16GB Flash Storage</td>\n",
       "      <td>Intel HD Graphics 510</td>\n",
       "      <td>Chrome OS</td>\n",
       "      <td>1.45kg</td>\n",
       "      <td>24503.472</td>\n",
       "    </tr>\n",
       "    <tr>\n",
       "      <th>772</th>\n",
       "      <td>772</td>\n",
       "      <td>772.0</td>\n",
       "      <td>Toshiba</td>\n",
       "      <td>Notebook</td>\n",
       "      <td>14.0</td>\n",
       "      <td>IPS Panel 1366x768</td>\n",
       "      <td>Intel Core i5 6200U 2.3GHz</td>\n",
       "      <td>4GB</td>\n",
       "      <td>128GB SSD</td>\n",
       "      <td>Intel HD Graphics 520</td>\n",
       "      <td>Windows 10</td>\n",
       "      <td>1.75kg</td>\n",
       "      <td>54345.600</td>\n",
       "    </tr>\n",
       "    <tr>\n",
       "      <th>1133</th>\n",
       "      <td>1133</td>\n",
       "      <td>1133.0</td>\n",
       "      <td>HP</td>\n",
       "      <td>Ultrabook</td>\n",
       "      <td>15.6</td>\n",
       "      <td>Full HD 1920x1080</td>\n",
       "      <td>Intel Core i7 7500U 2.7GHz</td>\n",
       "      <td>8GB</td>\n",
       "      <td>256GB SSD</td>\n",
       "      <td>Intel HD Graphics 620</td>\n",
       "      <td>Windows 10</td>\n",
       "      <td>1.84kg</td>\n",
       "      <td>40066.560</td>\n",
       "    </tr>\n",
       "    <tr>\n",
       "      <th>20</th>\n",
       "      <td>20</td>\n",
       "      <td>NaN</td>\n",
       "      <td>NaN</td>\n",
       "      <td>NaN</td>\n",
       "      <td>NaN</td>\n",
       "      <td>NaN</td>\n",
       "      <td>NaN</td>\n",
       "      <td>NaN</td>\n",
       "      <td>NaN</td>\n",
       "      <td>NaN</td>\n",
       "      <td>NaN</td>\n",
       "      <td>NaN</td>\n",
       "      <td>NaN</td>\n",
       "    </tr>\n",
       "    <tr>\n",
       "      <th>958</th>\n",
       "      <td>958</td>\n",
       "      <td>958.0</td>\n",
       "      <td>Dell</td>\n",
       "      <td>Ultrabook</td>\n",
       "      <td>13.3</td>\n",
       "      <td>Quad HD+ 3200x1800</td>\n",
       "      <td>Intel Core i7 6500U 2.5GHz</td>\n",
       "      <td>8GB</td>\n",
       "      <td>256GB SSD</td>\n",
       "      <td>Intel HD Graphics 520</td>\n",
       "      <td>Windows 10</td>\n",
       "      <td>1.3kg</td>\n",
       "      <td>67559.040</td>\n",
       "    </tr>\n",
       "  </tbody>\n",
       "</table>\n",
       "</div>"
      ],
      "text/plain": [
       "      Unnamed: 0.1  Unnamed: 0  Company            TypeName  Inches  \\\n",
       "29              29        29.0       HP            Notebook    17.3   \n",
       "348            348       348.0     Asus  2 in 1 Convertible    11.6   \n",
       "81              81        81.0    Apple           Ultrabook    12.0   \n",
       "368            368       368.0     Dell            Notebook    15.6   \n",
       "317            317       317.0   Lenovo            Notebook    13.3   \n",
       "772            772       772.0  Toshiba            Notebook    14.0   \n",
       "1133          1133      1133.0       HP           Ultrabook    15.6   \n",
       "20              20         NaN      NaN                 NaN     NaN   \n",
       "958            958       958.0     Dell           Ultrabook    13.3   \n",
       "\n",
       "                        ScreenResolution  \\\n",
       "29                     Full HD 1920x1080   \n",
       "348                 Touchscreen 1366x768   \n",
       "81    IPS Panel Retina Display 2304x1440   \n",
       "368                    Full HD 1920x1080   \n",
       "317                             1366x768   \n",
       "772                   IPS Panel 1366x768   \n",
       "1133                   Full HD 1920x1080   \n",
       "20                                   NaN   \n",
       "958                   Quad HD+ 3200x1800   \n",
       "\n",
       "                                       Cpu  Ram              Memory  \\\n",
       "29              Intel Core i5 8250U 1.6GHz  8GB             1TB HDD   \n",
       "348   Intel Celeron Dual Core N3350 1.1GHz  4GB  32GB Flash Storage   \n",
       "81                    Intel Core i5 1.3GHz  8GB           512GB SSD   \n",
       "368             Intel Core i7 7500U 2.7GHz  8GB           256GB SSD   \n",
       "317   Intel Celeron Dual Core 3855U 1.6GHz  4GB  16GB Flash Storage   \n",
       "772             Intel Core i5 6200U 2.3GHz  4GB           128GB SSD   \n",
       "1133            Intel Core i7 7500U 2.7GHz  8GB           256GB SSD   \n",
       "20                                     NaN  NaN                 NaN   \n",
       "958             Intel Core i7 6500U 2.5GHz  8GB           256GB SSD   \n",
       "\n",
       "                        Gpu       OpSys  Weight      Price  \n",
       "29     Nvidia GeForce 930MX  Windows 10   2.5kg  47738.880  \n",
       "348   Intel HD Graphics 500  Windows 10   1.5kg  19980.000  \n",
       "81    Intel HD Graphics 615       macOS  0.92kg  80452.800  \n",
       "368      AMD Radeon R7 M445  Windows 10  2.33kg  47898.720  \n",
       "317   Intel HD Graphics 510   Chrome OS  1.45kg  24503.472  \n",
       "772   Intel HD Graphics 520  Windows 10  1.75kg  54345.600  \n",
       "1133  Intel HD Graphics 620  Windows 10  1.84kg  40066.560  \n",
       "20                      NaN         NaN     NaN        NaN  \n",
       "958   Intel HD Graphics 520  Windows 10   1.3kg  67559.040  "
      ]
     },
     "execution_count": 2,
     "metadata": {},
     "output_type": "execute_result"
    }
   ],
   "source": [
    "values = ['*','/','-','+','!','@','#','$','%','^','&','(',')','-','_','=',';',':',\"'\",'\"','<','>','`','~',',','.',np.nan,'?']\n",
    "\n",
    "# reading the data file\n",
    "\n",
    "df1 = pd.read_csv(r\"C:\\Users\\logfi\\Documents\\0. OS Projects\\Capstone Project\\laptop.csv\",na_values=values) \n",
    "df1.sample(9)"
   ]
  },
  {
   "cell_type": "code",
   "execution_count": 3,
   "id": "1fa78c88",
   "metadata": {},
   "outputs": [
    {
     "data": {
      "text/plain": [
       "Index(['Unnamed: 0.1', 'Unnamed: 0', 'Company', 'TypeName', 'Inches',\n",
       "       'ScreenResolution', 'Cpu', 'Ram', 'Memory', 'Gpu', 'OpSys', 'Weight',\n",
       "       'Price'],\n",
       "      dtype='object')"
      ]
     },
     "execution_count": 3,
     "metadata": {},
     "output_type": "execute_result"
    }
   ],
   "source": [
    "df1.columns"
   ]
  },
  {
   "cell_type": "code",
   "execution_count": 4,
   "id": "b0841e1f",
   "metadata": {},
   "outputs": [
    {
     "data": {
      "text/plain": [
       "0        Apple\n",
       "1        Apple\n",
       "2           HP\n",
       "3        Apple\n",
       "4        Apple\n",
       "         ...  \n",
       "1298    Lenovo\n",
       "1299    Lenovo\n",
       "1300    Lenovo\n",
       "1301        HP\n",
       "1302      Asus\n",
       "Name: Company, Length: 1303, dtype: object"
      ]
     },
     "execution_count": 4,
     "metadata": {},
     "output_type": "execute_result"
    }
   ],
   "source": [
    "df1['Company']"
   ]
  },
  {
   "cell_type": "code",
   "execution_count": 5,
   "id": "f0349002",
   "metadata": {},
   "outputs": [],
   "source": [
    "# deleting the columns 'Unnamed: 0.1', 'Unnamed: 0' as they represent Sr.No\n",
    "df1.drop(columns=['Unnamed: 0.1', 'Unnamed: 0'],inplace=True,axis=1)    "
   ]
  },
  {
   "cell_type": "code",
   "execution_count": 6,
   "id": "986999b6",
   "metadata": {},
   "outputs": [],
   "source": [
    "df1.rename(columns={\"Ram\": \"Ram_in_GB\", \"Weight\": \"Weight_in_Kg\"},inplace=True)         # renaming the columns\n",
    "\n",
    "# removing unncessary string in the columns - GB & kg respectively\n",
    "\n",
    "df1['Ram_in_GB'] = df1['Ram_in_GB'].str.replace('GB', '', regex= True)\n",
    "df1['Weight_in_Kg'] = df1['Weight_in_Kg'].str.replace('kg', '', regex= True)"
   ]
  },
  {
   "cell_type": "code",
   "execution_count": 7,
   "id": "a7434930",
   "metadata": {},
   "outputs": [
    {
     "data": {
      "text/plain": [
       "<Axes: >"
      ]
     },
     "execution_count": 7,
     "metadata": {},
     "output_type": "execute_result"
    },
    {
     "data": {
      "image/png": "[encoded data removed]",
      "text/plain": [
       "<Figure size 2500x1000 with 2 Axes>"
      ]
     },
     "metadata": {},
     "output_type": "display_data"
    }
   ],
   "source": [
    "mi.matrix(df1,label_rotation=90)"
   ]
  },
  {
   "cell_type": "code",
   "execution_count": 8,
   "id": "7fe0634f",
   "metadata": {},
   "outputs": [
    {
     "data": {
      "text/plain": [
       "<Axes: >"
      ]
     },
     "execution_count": 8,
     "metadata": {},
     "output_type": "execute_result"
    },
    {
     "data": {
      "image/png": "[encoded data removed]",
      "text/plain": [
       "<Figure size 2500x1000 with 3 Axes>"
      ]
     },
     "metadata": {},
     "output_type": "display_data"
    }
   ],
   "source": [
    "mi.bar(df1,label_rotation=90)"
   ]
  },
  {
   "cell_type": "code",
   "execution_count": 9,
   "id": "bc78f1f0",
   "metadata": {},
   "outputs": [
    {
     "data": {
      "text/plain": [
       "Company             30\n",
       "TypeName            30\n",
       "Inches              31\n",
       "ScreenResolution    30\n",
       "Cpu                 30\n",
       "Ram_in_GB           30\n",
       "Memory              31\n",
       "Gpu                 30\n",
       "OpSys               30\n",
       "Weight_in_Kg        31\n",
       "Price               30\n",
       "dtype: int64"
      ]
     },
     "execution_count": 9,
     "metadata": {},
     "output_type": "execute_result"
    }
   ],
   "source": [
    "df1.isnull().sum()"
   ]
  },
  {
   "cell_type": "code",
   "execution_count": null,
   "id": "c5fb7b20",
   "metadata": {},
   "outputs": [],
   "source": [
    "df1.dropna(axis=0,inplace=True)          #dropping null values"
   ]
  },
  {
   "cell_type": "code",
   "execution_count": null,
   "id": "87fa83b4",
   "metadata": {},
   "outputs": [],
   "source": [
    "df1.isnull().sum()"
   ]
  },
  {
   "cell_type": "code",
   "execution_count": null,
   "id": "91e1cdc0",
   "metadata": {},
   "outputs": [],
   "source": [
    "mi.bar(df1,label_rotation=90)"
   ]
  },
  {
   "cell_type": "code",
   "execution_count": null,
   "id": "4af93adc",
   "metadata": {},
   "outputs": [],
   "source": [
    "mi.matrix(df1,label_rotation=90)"
   ]
  },
  {
   "cell_type": "code",
   "execution_count": null,
   "id": "ff2aa8a9",
   "metadata": {},
   "outputs": [],
   "source": [
    "df1.describe(include='all')"
   ]
  },
  {
   "cell_type": "code",
   "execution_count": null,
   "id": "9a479d65",
   "metadata": {},
   "outputs": [],
   "source": [
    "df1.info()"
   ]
  },
  {
   "cell_type": "code",
   "execution_count": null,
   "id": "3d3c395e",
   "metadata": {},
   "outputs": [],
   "source": [
    "df1.duplicated().sum()           # inspecting duplicate values"
   ]
  },
  {
   "cell_type": "markdown",
   "id": "581506db",
   "metadata": {},
   "source": [
    "### 29 duplicate records are present in database"
   ]
  },
  {
   "cell_type": "code",
   "execution_count": null,
   "id": "0edf87eb",
   "metadata": {},
   "outputs": [],
   "source": [
    "df1.drop_duplicates(inplace = True,keep='first')          # dropping duplicates"
   ]
  },
  {
   "cell_type": "code",
   "execution_count": null,
   "id": "6aae7791",
   "metadata": {},
   "outputs": [],
   "source": [
    "df1.duplicated().sum()           # reinspecting duplicate values"
   ]
  },
  {
   "cell_type": "code",
   "execution_count": null,
   "id": "730041e0",
   "metadata": {},
   "outputs": [],
   "source": [
    "df1.info()"
   ]
  },
  {
   "cell_type": "markdown",
   "id": "9ef495ba",
   "metadata": {},
   "source": [
    "### EDA"
   ]
  },
  {
   "cell_type": "code",
   "execution_count": null,
   "id": "e9ad235a",
   "metadata": {},
   "outputs": [],
   "source": [
    "f, ax = plt.subplots(1, 1, figsize=(10, 10))\n",
    "ax = sns.countplot(data = df1, y = df1['Company'],palette = 'Set1',order=df1['Company'].value_counts(ascending=False).index)"
   ]
  },
  {
   "cell_type": "code",
   "execution_count": null,
   "id": "5448743d",
   "metadata": {},
   "outputs": [],
   "source": [
    "df1['Company'].value_counts()"
   ]
  },
  {
   "cell_type": "code",
   "execution_count": null,
   "id": "59283a87",
   "metadata": {},
   "outputs": [],
   "source": [
    "f, ax = plt.subplots(1, 1, figsize=(10, 5))\n",
    "ax = sns.countplot(data = df1, x = df1['TypeName'],palette = 'Set1',order=df1['TypeName'].value_counts(ascending=False).index )"
   ]
  },
  {
   "cell_type": "code",
   "execution_count": null,
   "id": "6f9de4ca",
   "metadata": {},
   "outputs": [],
   "source": [
    "df1['TypeName'].value_counts()"
   ]
  },
  {
   "cell_type": "code",
   "execution_count": null,
   "id": "86bfeb3e",
   "metadata": {},
   "outputs": [],
   "source": [
    "df1['TypeName'].value_counts().sum()"
   ]
  },
  {
   "cell_type": "code",
   "execution_count": null,
   "id": "ed4cb0f6",
   "metadata": {},
   "outputs": [],
   "source": [
    "(688*100)/1241"
   ]
  },
  {
   "cell_type": "code",
   "execution_count": null,
   "id": "b9c387fc",
   "metadata": {},
   "outputs": [],
   "source": [
    "f, ax = plt.subplots(1, 1, figsize=(10, 5))\n",
    "ax = sns.countplot(data = df1, x = df1['Ram_in_GB'],palette = 'Set1',order=df1['Ram_in_GB'].value_counts(ascending=False).index )"
   ]
  },
  {
   "cell_type": "code",
   "execution_count": null,
   "id": "77b992d6",
   "metadata": {},
   "outputs": [],
   "source": [
    "df1['Ram_in_GB'].value_counts()"
   ]
  },
  {
   "cell_type": "code",
   "execution_count": null,
   "id": "e9859ea0",
   "metadata": {},
   "outputs": [],
   "source": [
    "f, ax = plt.subplots(1, 1, figsize=(12, 5))\n",
    "ax = sns.countplot(data = df1, x = df1['OpSys'],palette = 'Set1',order=df1['OpSys'].value_counts(ascending=False).index)"
   ]
  },
  {
   "cell_type": "code",
   "execution_count": null,
   "id": "a1c6a415",
   "metadata": {},
   "outputs": [],
   "source": [
    "df1['OpSys'].value_counts()"
   ]
  },
  {
   "cell_type": "code",
   "execution_count": null,
   "id": "ea8c8c3d",
   "metadata": {},
   "outputs": [],
   "source": [
    "f, ax = plt.subplots(1, 1, figsize=(12, 5))\n",
    "ax = sns.countplot(data = df1, x = df1['OpSys'],palette = 'Set1',order=df1['OpSys'].value_counts(ascending=False).index, hue='Ram_in_GB' )"
   ]
  },
  {
   "cell_type": "code",
   "execution_count": null,
   "id": "9f64981e",
   "metadata": {},
   "outputs": [],
   "source": [
    "f, ax = plt.subplots(1, 1, figsize=(12, 24))\n",
    "ax = sns.countplot(data = df1, y = df1['Cpu'],palette = 'Set1',order=df1['Cpu'].value_counts(ascending=False).index)"
   ]
  },
  {
   "cell_type": "code",
   "execution_count": null,
   "id": "a1ce824a",
   "metadata": {},
   "outputs": [],
   "source": [
    "df1['Processor'] = df1['Cpu'].apply(lambda x: 'Intel' if 'Intel' in x else ('AMD' if 'AMD' in x else 'Samsung'))"
   ]
  },
  {
   "cell_type": "code",
   "execution_count": null,
   "id": "68456164",
   "metadata": {},
   "outputs": [],
   "source": [
    "df1['Processor'].value_counts()"
   ]
  },
  {
   "cell_type": "code",
   "execution_count": null,
   "id": "65dedcf7",
   "metadata": {},
   "outputs": [],
   "source": [
    "df1['Processor'].value_counts().sum()"
   ]
  },
  {
   "cell_type": "code",
   "execution_count": null,
   "id": "e7f7976e",
   "metadata": {},
   "outputs": [],
   "source": [
    "(1180*100)/1241"
   ]
  },
  {
   "cell_type": "code",
   "execution_count": null,
   "id": "5ec748c5",
   "metadata": {},
   "outputs": [],
   "source": [
    "df1['Processor'].value_counts().plot(kind='bar')"
   ]
  },
  {
   "cell_type": "code",
   "execution_count": null,
   "id": "caa1047a",
   "metadata": {},
   "outputs": [],
   "source": [
    "f, ax = plt.subplots(1, 1, figsize=(12, 24))\n",
    "ax = sns.countplot(data = df1, y = df1['Memory'],palette = 'Set1',order=df1['Memory'].value_counts(ascending=False).index)"
   ]
  },
  {
   "cell_type": "code",
   "execution_count": null,
   "id": "d9736e0c",
   "metadata": {},
   "outputs": [],
   "source": [
    "# Convert 'Memory' to string and remove '.0'\n",
    "df1['Memory'] = df1['Memory'].astype(str).replace('\\.0', '', regex=True)\n",
    "\n",
    "# Remove 'GB' and replace 'TB' with '000'\n",
    "df1[\"Memory\"] = df1[\"Memory\"].str.replace('GB', '').str.replace('TB', '000')\n",
    "\n",
    "# Split 'Memory' into two parts based on '+'\n",
    "new = df1[\"Memory\"].str.split(\"+\", n=1, expand=True)\n",
    "\n",
    "# Assign the split parts to 'first' and 'second'\n",
    "df1[\"first\"] = new[0].str.strip()\n",
    "df1[\"second\"] = new[1]\n",
    "\n",
    "# Create binary columns for the presence of different storage types in 'first'\n",
    "df1[\"Layer1HDD\"] = df1[\"first\"].str.contains(\"HDD\").astype(int)\n",
    "df1[\"Layer1SSD\"] = df1[\"first\"].str.contains(\"SSD\").astype(int)\n",
    "df1[\"Layer1Hybrid\"] = df1[\"first\"].str.contains(\"Hybrid\").astype(int)\n",
    "df1[\"Layer1Flash_Storage\"] = df1[\"first\"].str.contains(\"Flash Storage\").astype(int)\n",
    "\n",
    "# Remove non-numeric characters from 'first'\n",
    "df1['first'] = df1['first'].str.replace(r'\\D', '', regex=True)\n",
    "\n",
    "# Fill NaN values in 'second' with \"0\"\n",
    "df1[\"second\"].fillna(\"0\", inplace=True)\n",
    "\n",
    "# Create binary columns for the presence of different storage types in 'second'\n",
    "df1[\"Layer2HDD\"] = df1[\"second\"].str.contains(\"HDD\").astype(int)\n",
    "df1[\"Layer2SSD\"] = df1[\"second\"].str.contains(\"SSD\").astype(int)\n",
    "df1[\"Layer2Hybrid\"] = df1[\"second\"].str.contains(\"Hybrid\").astype(int)\n",
    "df1[\"Layer2Flash_Storage\"] = df1[\"second\"].str.contains(\"Flash Storage\").astype(int)\n",
    "\n",
    "# Remove non-numeric characters from 'second'\n",
    "df1['second'] = df1['second'].str.replace(r'\\D', '', regex=True)\n",
    "\n",
    "# Convert 'first' and 'second' to integers\n",
    "df1[\"first\"] = df1[\"first\"].astype(int)\n",
    "df1[\"second\"] = df1[\"second\"].astype(int)\n",
    "\n",
    "# Calculate total storage for each type\n",
    "df1[\"HDD\"] = (df1[\"first\"] * df1[\"Layer1HDD\"]) + (df1[\"second\"] * df1[\"Layer2HDD\"])\n",
    "df1[\"SSD\"] = (df1[\"first\"] * df1[\"Layer1SSD\"]) + (df1[\"second\"] * df1[\"Layer2SSD\"])\n",
    "df1[\"Hybrid\"] = (df1[\"first\"] * df1[\"Layer1Hybrid\"]) + (df1[\"second\"] * df1[\"Layer2Hybrid\"])\n",
    "df1[\"Flash_Storage\"] = (df1[\"first\"] * df1[\"Layer1Flash_Storage\"]) + (df1[\"second\"] * df1[\"Layer2Flash_Storage\"])\n",
    "\n",
    "# Drop the intermediate columns\n",
    "df1.drop(columns=['first', 'second', 'Layer1HDD', 'Layer1SSD', 'Layer1Hybrid',\n",
    "                 'Layer1Flash_Storage', 'Layer2HDD', 'Layer2SSD', 'Layer2Hybrid',\n",
    "                 'Layer2Flash_Storage'], inplace=True)\n"
   ]
  },
  {
   "cell_type": "code",
   "execution_count": null,
   "id": "c858e495",
   "metadata": {},
   "outputs": [],
   "source": [
    "df1[\"HDD\"].value_counts()"
   ]
  },
  {
   "cell_type": "code",
   "execution_count": null,
   "id": "f92f51c1",
   "metadata": {},
   "outputs": [],
   "source": [
    "df1[\"SSD\"].value_counts()"
   ]
  },
  {
   "cell_type": "code",
   "execution_count": null,
   "id": "6494aced",
   "metadata": {},
   "outputs": [],
   "source": [
    "df1[\"HDD\"].value_counts()"
   ]
  },
  {
   "cell_type": "code",
   "execution_count": null,
   "id": "bd48482b",
   "metadata": {},
   "outputs": [],
   "source": [
    "df1['Hybrid'].value_counts()"
   ]
  },
  {
   "cell_type": "code",
   "execution_count": null,
   "id": "17fa7931",
   "metadata": {},
   "outputs": [],
   "source": [
    "df1['Flash_Storage'].value_counts()"
   ]
  },
  {
   "cell_type": "code",
   "execution_count": null,
   "id": "38fd34f4",
   "metadata": {},
   "outputs": [],
   "source": [
    "f, ax = plt.subplots(1, 1, figsize=(12, 24))\n",
    "ax = sns.countplot(data = df1, y = df1['Gpu'],palette = 'Set1',order=df1['Gpu'].value_counts(ascending=False).index)"
   ]
  },
  {
   "cell_type": "code",
   "execution_count": null,
   "id": "dd9fde8c",
   "metadata": {},
   "outputs": [],
   "source": [
    "df1['Graphics'] = df1['Gpu'].apply(lambda x: 'Intel' if 'Intel' in x else ('AMD' if 'AMD' in x else 'Nvidia'))"
   ]
  },
  {
   "cell_type": "code",
   "execution_count": null,
   "id": "4cffd2d1",
   "metadata": {},
   "outputs": [],
   "source": [
    "df1['Graphics'].value_counts()"
   ]
  },
  {
   "cell_type": "code",
   "execution_count": null,
   "id": "4b3a22c7",
   "metadata": {},
   "outputs": [],
   "source": [
    "(683*100)/(683+389+169)"
   ]
  },
  {
   "cell_type": "code",
   "execution_count": null,
   "id": "49ee8e11",
   "metadata": {},
   "outputs": [],
   "source": [
    "df1['Graphics'].value_counts().plot(kind='bar')"
   ]
  },
  {
   "cell_type": "code",
   "execution_count": null,
   "id": "fdea8608",
   "metadata": {},
   "outputs": [],
   "source": [
    "f, ax = plt.subplots(1, 1, figsize=(12, 24))\n",
    "ax = sns.countplot(data = df1, y = df1['ScreenResolution'],palette = 'Set1',order=df1['ScreenResolution'].value_counts(ascending=False).index)"
   ]
  },
  {
   "cell_type": "code",
   "execution_count": null,
   "id": "1f150cc4",
   "metadata": {},
   "outputs": [],
   "source": [
    " df1['ScreenResolution'].value_counts()"
   ]
  },
  {
   "cell_type": "code",
   "execution_count": null,
   "id": "9d499cf8",
   "metadata": {},
   "outputs": [],
   "source": [
    "df1['Touchscreen'] = df1['ScreenResolution'].apply(lambda x:'Yes' if 'Touchscreen' in x else 'No')"
   ]
  },
  {
   "cell_type": "code",
   "execution_count": null,
   "id": "c32c82af",
   "metadata": {},
   "outputs": [],
   "source": [
    "df1['Touchscreen'].value_counts()"
   ]
  },
  {
   "cell_type": "code",
   "execution_count": null,
   "id": "9845465e",
   "metadata": {},
   "outputs": [],
   "source": [
    "(1060/(1060+181))*100"
   ]
  },
  {
   "cell_type": "code",
   "execution_count": null,
   "id": "6390819f",
   "metadata": {},
   "outputs": [],
   "source": [
    "df1['Touchscreen'].value_counts().plot(kind='bar')"
   ]
  },
  {
   "cell_type": "code",
   "execution_count": null,
   "id": "9e98e73b",
   "metadata": {},
   "outputs": [],
   "source": [
    "df1['Touchscreen'].value_counts()"
   ]
  },
  {
   "cell_type": "markdown",
   "id": "b6499d1e",
   "metadata": {},
   "source": [
    "### Insights from given dataset, commonly sold laptop specifications\n",
    "- Lenovo is the most widely sold brand of laptop, which is followed by Dell\n",
    "- 55% of laptops are Notebook\n",
    "- 8 GB ram is the widely used configuration\n",
    "- Windows 10 is the widely used operating system \n",
    "- Full HD 1920 * 1080 is the widely used screen resolution\n",
    "- 256 GB SSD is the widely used memory\n",
    "- Intel HD Graphics 620 is widely used Gpu\n",
    "- Intel core i5 7200U 2.5 GHz is widely used Cpu\n",
    "- 85% laptops sold were of non-touch type [touchscreen]\n",
    "- 55% of graphics card (Gpu) are of intel\n",
    "- 95% of processors (Cpu) are of intel"
   ]
  },
  {
   "cell_type": "code",
   "execution_count": null,
   "id": "fe9d1644",
   "metadata": {},
   "outputs": [],
   "source": [
    "df1.sample(7)"
   ]
  },
  {
   "cell_type": "code",
   "execution_count": null,
   "id": "2f66ef31",
   "metadata": {},
   "outputs": [],
   "source": [
    "df1.columns"
   ]
  },
  {
   "cell_type": "markdown",
   "id": "81c607c6",
   "metadata": {},
   "source": [
    "### Preprocessing"
   ]
  },
  {
   "cell_type": "code",
   "execution_count": null,
   "id": "5431659d",
   "metadata": {},
   "outputs": [],
   "source": [
    "df1['Inches'] = pd.to_numeric(df1['Inches'])\n",
    "df1['Ram_in_GB'] = pd.to_numeric(df1['Ram_in_GB'])\n",
    "df1['Weight_in_Kg'] = pd.to_numeric(df1['Weight_in_Kg'])"
   ]
  },
  {
   "cell_type": "code",
   "execution_count": null,
   "id": "e849faca",
   "metadata": {},
   "outputs": [],
   "source": [
    "from sklearn.preprocessing import LabelEncoder\n",
    "le = LabelEncoder()\n",
    "df1['Company'] = le.fit_transform(df1['Company'])\n",
    "df1['TypeName'] = le.fit_transform(df1['TypeName'])\n",
    "df1['ScreenResolution'] = le.fit_transform(df1['ScreenResolution'])\n",
    "df1['Cpu'] = le.fit_transform(df1['Cpu'])\n",
    "df1['Memory'] = le.fit_transform(df1['Memory'])\n",
    "df1['Gpu'] = le.fit_transform(df1['Gpu'])\n",
    "df1['OpSys'] = le.fit_transform(df1['OpSys'])\n",
    "df1['Touchscreen'] = le.fit_transform(df1['Touchscreen'])\n",
    "df1['Processor'] = le.fit_transform(df1['Processor'])\n",
    "df1['Graphics'] = le.fit_transform(df1['Graphics'])\n",
    "df1['HDD'] = le.fit_transform(df1['HDD'])\n",
    "df1['SSD'] = le.fit_transform(df1['SSD'])\n",
    "df1['Hybrid'] = le.fit_transform(df1['Hybrid'])\n",
    "df1['Flash_Storage'] = le.fit_transform(df1['Flash_Storage'])\n",
    "df1['Ram_in_GB'] = le.fit_transform(df1['Ram_in_GB'])"
   ]
  },
  {
   "cell_type": "code",
   "execution_count": null,
   "id": "7fa7b012",
   "metadata": {},
   "outputs": [],
   "source": [
    "df1.sample(5)"
   ]
  },
  {
   "cell_type": "code",
   "execution_count": null,
   "id": "09fb4e89",
   "metadata": {},
   "outputs": [],
   "source": [
    "df1['Inches'].min()"
   ]
  },
  {
   "cell_type": "code",
   "execution_count": null,
   "id": "29f09185",
   "metadata": {},
   "outputs": [],
   "source": [
    "df1['Inches'].max()"
   ]
  },
  {
   "cell_type": "code",
   "execution_count": null,
   "id": "32466e0a",
   "metadata": {},
   "outputs": [],
   "source": [
    "df1['Weight_in_Kg'].max()"
   ]
  },
  {
   "cell_type": "code",
   "execution_count": null,
   "id": "89d2a787",
   "metadata": {},
   "outputs": [],
   "source": [
    "df1['Weight_in_Kg'].min()"
   ]
  },
  {
   "cell_type": "code",
   "execution_count": null,
   "id": "1730b1b4",
   "metadata": {},
   "outputs": [],
   "source": [
    "df1['Weight_in_Kg'].mean()"
   ]
  },
  {
   "cell_type": "code",
   "execution_count": null,
   "id": "1c63a03e",
   "metadata": {},
   "outputs": [],
   "source": [
    "df1.loc[df1['Weight_in_Kg'] == 0.0002,'Weight_in_Kg'] = df1['Weight_in_Kg'].mean()   # Replacing with mean"
   ]
  },
  {
   "cell_type": "code",
   "execution_count": null,
   "id": "c3fd0e9d",
   "metadata": {},
   "outputs": [],
   "source": [
    "df1['Weight_in_Kg'].min()"
   ]
  },
  {
   "cell_type": "code",
   "execution_count": null,
   "id": "cae08131",
   "metadata": {},
   "outputs": [],
   "source": [
    "df1[\"Company\"].value_counts()"
   ]
  },
  {
   "cell_type": "code",
   "execution_count": null,
   "id": "6111b35f",
   "metadata": {},
   "outputs": [],
   "source": [
    "df1[\"TypeName\"].value_counts()"
   ]
  },
  {
   "cell_type": "code",
   "execution_count": null,
   "id": "c4a245b6",
   "metadata": {},
   "outputs": [],
   "source": [
    "df1[\"ScreenResolution\"].value_counts()"
   ]
  },
  {
   "cell_type": "code",
   "execution_count": null,
   "id": "93ecb3fe",
   "metadata": {},
   "outputs": [],
   "source": [
    "df1[\"Ram_in_GB\"].value_counts()"
   ]
  },
  {
   "cell_type": "code",
   "execution_count": null,
   "id": "1ae7a7a1",
   "metadata": {},
   "outputs": [],
   "source": [
    "df1[\"HDD\"].value_counts()"
   ]
  },
  {
   "cell_type": "code",
   "execution_count": null,
   "id": "9e789b11",
   "metadata": {},
   "outputs": [],
   "source": [
    "df1[\"SSD\"].value_counts()"
   ]
  },
  {
   "cell_type": "code",
   "execution_count": null,
   "id": "22fb08e7",
   "metadata": {},
   "outputs": [],
   "source": [
    "df1[\"Hybrid\"].value_counts()"
   ]
  },
  {
   "cell_type": "code",
   "execution_count": null,
   "id": "3872a94b",
   "metadata": {},
   "outputs": [],
   "source": [
    "df1[\"Flash_Storage\"].value_counts()"
   ]
  },
  {
   "cell_type": "code",
   "execution_count": null,
   "id": "186746c1",
   "metadata": {},
   "outputs": [],
   "source": [
    "df1[\"Touchscreen\"].value_counts()"
   ]
  },
  {
   "cell_type": "code",
   "execution_count": null,
   "id": "6513b621",
   "metadata": {},
   "outputs": [],
   "source": [
    "#df1[\"SSD\"].value_counts()"
   ]
  },
  {
   "cell_type": "code",
   "execution_count": null,
   "id": "17f39ca3",
   "metadata": {},
   "outputs": [],
   "source": [
    "df1.corr()"
   ]
  },
  {
   "cell_type": "code",
   "execution_count": null,
   "id": "90b20ac8",
   "metadata": {},
   "outputs": [],
   "source": [
    "fig = df1.hist(xlabelsize=10, ylabelsize=10,grid = False,legend=False,figsize=(10,10))\n",
    "[x.title.set_size(10) for x in fig.ravel()]\n",
    "plt.show()"
   ]
  },
  {
   "cell_type": "code",
   "execution_count": null,
   "id": "557cb647",
   "metadata": {},
   "outputs": [],
   "source": [
    "from sklearn.preprocessing import PowerTransformer\n",
    "pt = PowerTransformer()\n",
    "df1[['Inches','Ram_in_GB','Weight_in_Kg']] = pt.fit_transform(df1[['Inches','Ram_in_GB','Weight_in_Kg']])  \n",
    "# removed price from here initially it was available during model building"
   ]
  },
  {
   "cell_type": "code",
   "execution_count": null,
   "id": "06141cc9",
   "metadata": {},
   "outputs": [],
   "source": [
    "fig = df1.hist(xlabelsize=10, ylabelsize=10,grid = False,legend=False,figsize=(10,10))\n",
    "[x.title.set_size(10) for x in fig.ravel()]\n",
    "plt.show()"
   ]
  },
  {
   "cell_type": "markdown",
   "id": "d1dff3a8",
   "metadata": {},
   "source": [
    "# Multicollinearity check"
   ]
  },
  {
   "cell_type": "code",
   "execution_count": null,
   "id": "616d5e87",
   "metadata": {},
   "outputs": [],
   "source": [
    "# Taking required independent variables\n",
    "df2 = df1[['Company', 'TypeName', 'Inches', 'ScreenResolution', 'Ram_in_GB',\n",
    "       'Gpu', 'OpSys', 'Weight_in_Kg', 'Processor', 'HDD',\n",
    "       'SSD', 'Hybrid', 'Flash_Storage', 'Graphics', 'Touchscreen']] \n",
    "# removed price here"
   ]
  },
  {
   "cell_type": "code",
   "execution_count": null,
   "id": "2e2d8667",
   "metadata": {
    "scrolled": false
   },
   "outputs": [],
   "source": [
    "from statsmodels.stats.outliers_influence import variance_inflation_factor\n",
    "X = df2\n",
    "# VIF dataframe \n",
    "vif_data = pd.DataFrame() \n",
    "vif_data[\"feature\"] = X.columns \n",
    "vif_data[\"VIF\"] = [variance_inflation_factor(X.values, i) \n",
    "                          for i in range(len(X.columns))] \n",
    "vif_data.sort_values(by='VIF')"
   ]
  },
  {
   "cell_type": "code",
   "execution_count": null,
   "id": "910c0b08",
   "metadata": {},
   "outputs": [],
   "source": [
    "# Taking columns below 5 VIF\n",
    "df3 = df2[['Company', 'Inches', 'ScreenResolution','Ram_in_GB',\n",
    "       'Weight_in_Kg', 'HDD','Hybrid', 'Flash_Storage', 'Touchscreen','TypeName','SSD']] \n",
    "df3"
   ]
  },
  {
   "cell_type": "code",
   "execution_count": null,
   "id": "f13c5cb5",
   "metadata": {},
   "outputs": [],
   "source": [
    "import seaborn as sns\n",
    "import matplotlib.pyplot as plt\n",
    "\n",
    "corr_matrix = df3.corr()\n",
    "\n",
    "# Create a heatmap of the entire correlation matrix\n",
    "plt.figure(figsize=(10, 8))\n",
    "sns.heatmap(corr_matrix, annot=True, cmap='Set1', fmt=\".2f\")\n",
    "plt.title(\"Correlation Matrix\")\n",
    "plt.show()\n",
    "\n",
    "# Filter features with correlations above 0.3 (positive or negative)\n",
    "high_corr_features = corr_matrix[(corr_matrix > 0.3) | (corr_matrix < -0.3)]\n",
    "plt.figure(figsize=(10, 8))\n",
    "sns.heatmap(high_corr_features, annot=True, cmap='Set1', fmt=\".2f\")\n",
    "plt.title(\"High Correlation Features (>|0.3|)\")\n",
    "plt.show()\n"
   ]
  },
  {
   "cell_type": "markdown",
   "id": "c586d435",
   "metadata": {},
   "source": [
    "# Feature Selection"
   ]
  },
  {
   "cell_type": "code",
   "execution_count": null,
   "id": "64360e45",
   "metadata": {},
   "outputs": [],
   "source": [
    "from sklearn.model_selection import train_test_split\n",
    "x = df3[['Company', 'Inches', 'ScreenResolution','Ram_in_GB',\n",
    "       'Weight_in_Kg', 'HDD','Hybrid', 'Flash_Storage', 'Touchscreen','TypeName','SSD']]\n",
    "\n",
    "y = df1['Price']\n",
    "\n",
    "xtrain, xtest, ytrain, ytest = train_test_split(x,y,test_size=0.2,random_state=77,shuffle=True)"
   ]
  },
  {
   "cell_type": "code",
   "execution_count": null,
   "id": "75e7ab2a",
   "metadata": {},
   "outputs": [],
   "source": [
    "from sklearn.feature_selection import VarianceThreshold\n",
    "sel = VarianceThreshold(threshold=(.8 * (1 - .8)))\n",
    "sel.fit_transform(x)"
   ]
  },
  {
   "cell_type": "code",
   "execution_count": null,
   "id": "ee128c65",
   "metadata": {},
   "outputs": [],
   "source": [
    "from sklearn.decomposition import PCA\n",
    "from sklearn.feature_selection import VarianceThreshold, RFE\n",
    "from sklearn.linear_model import LogisticRegression, LassoCV\n",
    "from sklearn.ensemble import RandomForestClassifier"
   ]
  },
  {
   "cell_type": "markdown",
   "id": "332fd76b",
   "metadata": {},
   "source": [
    "# Variance Thresholding"
   ]
  },
  {
   "cell_type": "code",
   "execution_count": null,
   "id": "e961f42d",
   "metadata": {},
   "outputs": [],
   "source": [
    "selector = VarianceThreshold(threshold=0.2)\n",
    "X_filtered = selector.fit_transform(x)\n",
    "\n",
    "# Plot variances before and after filtering\n",
    "plt.bar(range(x.shape[1]), np.var(x, axis=0), color='blue', label='Original')\n",
    "plt.bar(range(X_filtered.shape[1]), np.var(X_filtered, axis=0), color='red', label='Filtered')\n",
    "plt.xlabel('Feature Index')\n",
    "plt.ylabel('Variance')\n",
    "plt.title('Variance of Features before and after Filtering')\n",
    "plt.legend()\n",
    "# Save the plot\n",
    "plt.savefig('Variance Threshold.png')\n",
    "plt.show()"
   ]
  },
  {
   "cell_type": "markdown",
   "id": "40903a35",
   "metadata": {},
   "source": [
    "#  L1 Regularization (Lasso)"
   ]
  },
  {
   "cell_type": "code",
   "execution_count": null,
   "id": "cd05e308",
   "metadata": {},
   "outputs": [],
   "source": [
    "# Initialize LassoCV\n",
    "lasso = LassoCV(cv=5)\n",
    "lasso.fit(x, y)\n",
    "\n",
    "# Plot feature coefficients\n",
    "plt.figure(figsize=(10, 5))\n",
    "plt.bar(range(len(lasso.coef_)), lasso.coef_)\n",
    "plt.xlabel('Feature Index')\n",
    "plt.ylabel('Coefficient')\n",
    "plt.title('Feature Coefficients with Lasso Regression')\n",
    "# Save the plot\n",
    "plt.savefig('Lasso Regression.png')\n",
    "plt.show()\n"
   ]
  },
  {
   "cell_type": "markdown",
   "id": "48fc0013",
   "metadata": {},
   "source": [
    "# RAM is the most important feature"
   ]
  },
  {
   "cell_type": "code",
   "execution_count": null,
   "id": "087b3402",
   "metadata": {},
   "outputs": [],
   "source": [
    "from sklearn.model_selection import train_test_split\n",
    "x = df3[['Company','Inches','ScreenResolution','Ram_in_GB',\n",
    "       'Weight_in_Kg', 'HDD','Hybrid', 'Flash_Storage', 'Touchscreen','TypeName','SSD']]\n",
    "\n",
    "y = df1['Price']\n",
    "\n",
    "xtrain, xtest, ytrain, ytest = train_test_split(x,y,test_size=0.2,random_state=77,shuffle=True)"
   ]
  },
  {
   "cell_type": "markdown",
   "id": "15941a47",
   "metadata": {},
   "source": [
    "# ML models"
   ]
  },
  {
   "cell_type": "markdown",
   "id": "005df4c9",
   "metadata": {},
   "source": [
    "# Linear Regression"
   ]
  },
  {
   "cell_type": "code",
   "execution_count": null,
   "id": "5f0059f5",
   "metadata": {},
   "outputs": [],
   "source": [
    "from sklearn.linear_model import LinearRegression\n",
    "lr = LinearRegression()\n",
    "lr.fit(xtrain,ytrain)\n",
    "ypred_lr = lr.predict(xtest)\n",
    "\n",
    "from sklearn.metrics import root_mean_squared_error, r2_score\n",
    "r2_score = r2_score(ytest,ypred_lr)\n",
    "root_mean_squared_error = root_mean_squared_error(ytest,ypred_lr)\n",
    "print('r2_score :', r2_score)\n",
    "print('RMSE :',root_mean_squared_error)\n",
    "print('Coefficient :',lr.coef_)\n",
    "print('Intercept :',lr.intercept_)\n",
    "print(\"Training set score: {:.2f}\".format(lr.score(xtrain, ytrain)))\n",
    "print(\"Test set score: {:.2f}\".format(lr.score(xtest, ytest)))\n",
    "\n",
    "fig = px.scatter(x=ytest, y=ypred_lr, color_discrete_sequence=['purple'])\n",
    "\n",
    "fig.update_layout( title='Scatter Plot of Predicted vs. Test Values',width=800,height=600, xaxis_showgrid=False,\n",
    "    yaxis_showgrid=False,  xaxis_title='Test Values',  yaxis_title='Predicted Values',\n",
    "                      font=dict(family=\"Courier New, monospace\",size=18,color=\"RebeccaPurple\"))"
   ]
  },
  {
   "cell_type": "markdown",
   "id": "3ccdfa97",
   "metadata": {},
   "source": [
    "# Ridge Regression"
   ]
  },
  {
   "cell_type": "code",
   "execution_count": null,
   "id": "6786428b",
   "metadata": {},
   "outputs": [],
   "source": [
    "from sklearn.linear_model import Ridge\n",
    "rd = Ridge()\n",
    "rd.fit(xtrain,ytrain)\n",
    "ypred_rd = rd.predict(xtest)\n",
    "\n",
    "from sklearn.metrics import root_mean_squared_error, r2_score\n",
    "r2_score = r2_score(ytest,ypred_rd)\n",
    "root_mean_squared_error = root_mean_squared_error(ytest,ypred_rd)\n",
    "print('r2_score :', r2_score)\n",
    "print('RMSE :',root_mean_squared_error)\n",
    "print('Coefficient :',rd.coef_)\n",
    "print('Intercept :',rd.intercept_)\n",
    "print(\"Training set score: {:.2f}\".format(rd.score(xtrain, ytrain)))\n",
    "print(\"Test set score: {:.2f}\".format(rd.score(xtest, ytest)))\n",
    "\n",
    "fig = px.scatter(x=ytest, y=ypred_rd, color_discrete_sequence=['purple'])\n",
    "\n",
    "fig.update_layout( title='Scatter Plot of Predicted vs. Test Values',width=800,height=600, xaxis_showgrid=False,\n",
    "    yaxis_showgrid=False,  xaxis_title='Test Values',  yaxis_title='Predicted Values',\n",
    "                      font=dict(family=\"Courier New, monospace\",size=18,color=\"RebeccaPurple\"))"
   ]
  },
  {
   "cell_type": "markdown",
   "id": "9e3527ea",
   "metadata": {},
   "source": [
    "# Lasso "
   ]
  },
  {
   "cell_type": "code",
   "execution_count": null,
   "id": "1600636a",
   "metadata": {},
   "outputs": [],
   "source": [
    "from sklearn.linear_model import Ridge\n",
    "l = Lasso()\n",
    "l.fit(xtrain,ytrain)\n",
    "ypred_l = l.predict(xtest)\n",
    "\n",
    "from sklearn.metrics import root_mean_squared_error, r2_score\n",
    "r2_score = r2_score(ytest,ypred_l)\n",
    "root_mean_squared_error = root_mean_squared_error(ytest,ypred_l)\n",
    "print('r2_score :', r2_score)\n",
    "print('RMSE :',root_mean_squared_error)\n",
    "print('Coefficient :',l.coef_)\n",
    "print('Intercept :',l.intercept_)\n",
    "print(\"Training set score: {:.2f}\".format(l.score(xtrain, ytrain)))\n",
    "print(\"Test set score: {:.2f}\".format(l.score(xtest, ytest)))\n",
    "\n",
    "fig = px.scatter(x=ytest, y=ypred_l, color_discrete_sequence=['purple'])\n",
    "\n",
    "fig.update_layout( title='Scatter Plot of Predicted vs. Test Values',width=800,height=600, xaxis_showgrid=False,\n",
    "    yaxis_showgrid=False,  xaxis_title='Test Values',  yaxis_title='Predicted Values',\n",
    "                      font=dict(family=\"Courier New, monospace\",size=18,color=\"RebeccaPurple\"))\n",
    "\n",
    "import pickle\n",
    "filename='laptop_pred_l.pkl'\n",
    "pickle.dump(l, open(filename, 'wb'))"
   ]
  },
  {
   "cell_type": "markdown",
   "id": "9efc71bd",
   "metadata": {},
   "source": [
    "# Random Forest"
   ]
  },
  {
   "cell_type": "code",
   "execution_count": null,
   "id": "2c7d3254",
   "metadata": {},
   "outputs": [],
   "source": [
    "from sklearn.ensemble import RandomForestRegressor\n",
    "from sklearn.metrics import mean_squared_error, r2_score\n",
    "\n",
    "rfr = RandomForestRegressor(n_estimators=20, max_depth=10, random_state=42)\n",
    "rfr.fit(xtrain, ytrain)\n",
    "ypred_rfr = rfr.predict(xtest)\n",
    "    \n",
    "# Calculate and store the R2-score and RMSE\n",
    "r2_score = r2_score(ytest, ypred_rfr)\n",
    "root_mean_squared_error = np.sqrt(mean_squared_error(ytest, ypred_rfr))\n",
    "print('r2_score :', r2_score)\n",
    "print('RMSE :',root_mean_squared_error)\n",
    "print(\"Training set score: {:.2f}\".format(rfr.score(xtrain, ytrain)))\n",
    "print(\"Test set score: {:.2f}\".format(rfr.score(xtest, ytest)))\n",
    "\n",
    "fig = px.scatter(x=ytest, y=ypred_rfr, color_discrete_sequence=['purple'])\n",
    "\n",
    "fig.update_layout( title='Scatter Plot of Predicted vs. Test Values',width=800,height=600, xaxis_showgrid=False,\n",
    "    yaxis_showgrid=False,  xaxis_title='Test Values',  yaxis_title='Predicted Values',\n",
    "                      font=dict(family=\"Courier New, monospace\",size=18,color=\"RebeccaPurple\"))\n",
    "\n",
    "import pickle\n",
    "filename='laptop_pred_rfr.pkl'\n",
    "pickle.dump(rfr, open(filename, 'wb'))"
   ]
  },
  {
   "cell_type": "markdown",
   "id": "3765524a",
   "metadata": {},
   "source": [
    "# XG Boost"
   ]
  },
  {
   "cell_type": "code",
   "execution_count": null,
   "id": "135bb1a1",
   "metadata": {},
   "outputs": [],
   "source": [
    "from xgboost import XGBRegressor\n",
    "from sklearn.metrics import mean_squared_error, r2_score\n",
    "\n",
    "xgb_model = XGBRegressor(n_estimators=20, max_depth=10, random_state=42,enable_categorical=False)\n",
    "xgb_model.fit(xtrain, ytrain)\n",
    "ypred_xgb = xgb_model.predict(xtest)\n",
    "    \n",
    "# Calculate and store the R2-score and RMSE\n",
    "r2_score = r2_score(ytest, ypred_xgb)\n",
    "root_mean_squared_error = np.sqrt(mean_squared_error(ytest, ypred_xgb))\n",
    "print('r2_score :', r2_score)\n",
    "print('RMSE :',root_mean_squared_error)\n",
    "print(\"Training set score: {:.2f}\".format(xgb_model.score(xtrain, ytrain)))\n",
    "print(\"Test set score: {:.2f}\".format(xgb_model.score(xtest, ytest)))\n",
    "\n",
    "fig = px.scatter(x=ytest, y=ypred_xgb, color_discrete_sequence=['purple'])\n",
    "\n",
    "fig.update_layout( title='Scatter Plot of Predicted vs. Test Values',width=800,height=600, xaxis_showgrid=False,\n",
    "    yaxis_showgrid=False,  xaxis_title='Test Values',  yaxis_title='Predicted Values',\n",
    "                      font=dict(family=\"Courier New, monospace\",size=18,color=\"RebeccaPurple\"))\n",
    "\n"
   ]
  },
  {
   "cell_type": "markdown",
   "id": "d9fb8d28",
   "metadata": {},
   "source": [
    "# Hyper Parmeter Tuning - Grid Search"
   ]
  },
  {
   "cell_type": "code",
   "execution_count": null,
   "id": "29461904",
   "metadata": {},
   "outputs": [],
   "source": [
    "from sklearn.model_selection import GridSearchCV\n",
    "\n",
    "param_grid = {\n",
    "    'bootstrap': [True],\n",
    "    'max_depth': [10,20,40,60,80, 90, 100, 110],\n",
    "    'max_features': [1,2, 3],\n",
    "    'min_samples_leaf': [1,3, 4, 5],\n",
    "    'min_samples_split': [1,2,4,8, 10, 12],\n",
    "    'n_estimators': [20,50,100, 200, 300,500,600]\n",
    "}\n",
    "\n",
    "# Creating the base model\n",
    "rf = RandomForestRegressor(random_state = 42)\n",
    "\n",
    "grid_search = GridSearchCV(estimator = rf, param_grid = param_grid, \n",
    "                          cv = 5, n_jobs = -1, verbose = 2, return_train_score=True)"
   ]
  },
  {
   "cell_type": "code",
   "execution_count": null,
   "id": "4e8a8210",
   "metadata": {},
   "outputs": [],
   "source": [
    "# Fit the grid search to the data\n",
    "grid_search.fit(xtrain, ytrain);"
   ]
  },
  {
   "cell_type": "code",
   "execution_count": null,
   "id": "146370ee",
   "metadata": {},
   "outputs": [],
   "source": [
    "grid_search.best_params_"
   ]
  },
  {
   "cell_type": "markdown",
   "id": "fdb60b86",
   "metadata": {},
   "source": [
    "# Final Model"
   ]
  },
  {
   "cell_type": "code",
   "execution_count": null,
   "id": "108ea95d",
   "metadata": {},
   "outputs": [],
   "source": [
    "from sklearn.ensemble import RandomForestRegressor\n",
    "from sklearn.metrics import mean_squared_error, r2_score\n",
    "\n",
    "#rfr = RandomForestRegressor(n_estimators = 300, max_depth=40, random_state=42, bootstrap = True, max_features = 1,\n",
    "# min_samples_leaf = 1, min_samples_split = 2)\n",
    "\n",
    "rfr = RandomForestRegressor(n_estimators = 100, max_depth=40, random_state=42, bootstrap = True, max_features = 1,\n",
    " min_samples_leaf = 1, min_samples_split = 2)\n",
    "\n",
    "rfr.fit(xtrain, ytrain)\n",
    "ypred_rfr = rfr.predict(xtest)\n",
    "    \n",
    "# Calculate and store the R2-score and RMSE\n",
    "r2_score = r2_score(ytest, ypred_rfr)\n",
    "root_mean_squared_error = np.sqrt(mean_squared_error(ytest, ypred_rfr))\n",
    "print('r2_score :', r2_score)\n",
    "print('RMSE :',root_mean_squared_error)\n",
    "\n",
    "fig = px.scatter(x=ytest, y=ypred_rfr, color_discrete_sequence=['purple'])\n",
    "\n",
    "fig.update_layout( title='Scatter Plot of Predicted vs. Test Values',width=800,height=600, xaxis_showgrid=False,\n",
    "    yaxis_showgrid=False,  xaxis_title='Test Values',  yaxis_title='Predicted Values',\n",
    "                      font=dict(family=\"Courier New, monospace\",size=18,color=\"RebeccaPurple\"))"
   ]
  },
  {
   "cell_type": "code",
   "execution_count": null,
   "id": "d662b99c",
   "metadata": {},
   "outputs": [],
   "source": [
    "import pickle\n",
    "filename='laptop_pred_rfr.pkl'\n",
    "pickle.dump(rfr, open(filename, 'wb'))"
   ]
  },
  {
   "cell_type": "code",
   "execution_count": null,
   "id": "28b0dba8",
   "metadata": {},
   "outputs": [],
   "source": [
    "import pandas as pd\n",
    "\n",
    "from sklearn.preprocessing import LabelEncoder\n",
    "\n",
    "\n",
    "data = {'Company': ['Apple'], 'Inches': [13.3],'ScreenResolution': ['IPS Panel Retina Display 2880x1800'], \n",
    "            'Ram_in_GB': [16], 'Weight_in_Kg': [1.83], 'HDD': [0], \n",
    "            'Hybrid': [0],'Flash_Storage': [0], 'Touchscreen': ['No'],'TypeName': ['Ultrabook'],'SSD': [256]}\n",
    "\n",
    "col = ['Company', 'Inches','ScreenResolution', 'Ram_in_GB', 'Weight_in_Kg',\n",
    "       'HDD', 'Hybrid','Flash_Storage', 'Touchscreen','TypeName','SSD']\n",
    "\n",
    "df8 = pd.DataFrame(data,columns=col)\n",
    "\n",
    "df8['Company'] = le.fit_transform(df8['Company'])\n",
    "df8['ScreenResolution'] = le.fit_transform(df8['ScreenResolution'])\n",
    "df8['HDD'] = le.fit_transform(df8['HDD'])\n",
    "df8['Hybrid'] = le.fit_transform(df8['Hybrid'])\n",
    "df8['Flash_Storage'] = le.fit_transform(df8['Flash_Storage'])\n",
    "df8['Touchscreen'] = le.fit_transform(df8['Touchscreen'])\n",
    "df8['SSD'] = le.fit_transform(df8['SSD'])\n",
    "df8['TypeName'] = le.fit_transform(df8['TypeName'])\n",
    "\n",
    "predicted_price = xgb_model1.predict(df8)\n",
    "\n",
    "print('Predicted_price:', predicted_price)"
   ]
  }
 ],
 "metadata": {
  "kernelspec": {
   "display_name": "Python 3 (ipykernel)",
   "language": "python",
   "name": "python3"
  },
  "language_info": {
   "codemirror_mode": {
    "name": "ipython",
    "version": 3
   },
   "file_extension": ".py",
   "mimetype": "text/x-python",
   "name": "python",
   "nbconvert_exporter": "python",
   "pygments_lexer": "ipython3",
   "version": "3.11.7"
  },
  "varInspector": {
   "cols": {
    "lenName": 16,
    "lenType": 16,
    "lenVar": 40
   },
   "kernels_config": {
    "python": {
     "delete_cmd_postfix": "",
     "delete_cmd_prefix": "del ",
     "library": "var_list.py",
     "varRefreshCmd": "print(var_dic_list())"
    },
    "r": {
     "delete_cmd_postfix": ") ",
     "delete_cmd_prefix": "rm(",
     "library": "var_list.r",
     "varRefreshCmd": "cat(var_dic_list()) "
    }
   },
   "types_to_exclude": [
    "module",
    "function",
    "builtin_function_or_method",
    "instance",
    "_Feature"
   ],
   "window_display": false
  }
 },
 "nbformat": 4,
 "nbformat_minor": 5
}
