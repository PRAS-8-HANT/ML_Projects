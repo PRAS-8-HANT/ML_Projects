{
 "cells": [
  {
   "cell_type": "markdown",
   "id": "1afcc92a",
   "metadata": {},
   "source": [
    "# Project Title: OTP Verification System - S8083 Prashantsagar Uppara"
   ]
  },
  {
   "cell_type": "markdown",
   "id": "c4d4ecd1",
   "metadata": {},
   "source": [
    "# Importing required libraries"
   ]
  },
  {
   "cell_type": "code",
   "execution_count": null,
   "id": "a212fad7",
   "metadata": {},
   "outputs": [],
   "source": [
    "from random import randrange\n",
    "import smtplib\n",
    "from email.mime.text import MIMEText\n",
    "import time\n",
    "import re\n",
    "import PyQt6\n",
    "from PyQt6.QtWidgets import QApplication, QWidget, QLabel, QLineEdit, QPushButton, QVBoxLayout, QMessageBox\n",
    "from PyQt6.QtCore import QTimer, QTime\n",
    "import sys\n",
    "\n",
    "import warnings\n",
    "warnings.filterwarnings('ignore')"
   ]
  },
  {
   "cell_type": "markdown",
   "id": "d7157519",
   "metadata": {},
   "source": [
    "# SMTP Server & Email Handling"
   ]
  },
  {
   "cell_type": "code",
   "execution_count": null,
   "id": "9001668e",
   "metadata": {},
   "outputs": [],
   "source": [
    "def send_email(receiver_email,a):\n",
    " # creating SMTP session\n",
    " s = smtplib.SMTP('smtp.outlook.com', 587)\n",
    "\n",
    " # starting TLS for security\n",
    " s.starttls()\n",
    "\n",
    " # Authentication credentials\n",
    " smtp_username = '###############@#################.com'\n",
    " smtp_password = '######################'\n",
    "\n",
    " s.login(smtp_username,smtp_password)\n",
    "\n",
    " # Email body\n",
    " msg = MIMEText(f\"Your OTP for verification is: {a}\")\n",
    " msg['Subject'] = 'OTP Verification'\n",
    " msg['From'] = smtp_username\n",
    " msg['To'] = receiver_email\n",
    "\n",
    " # sending the mail\n",
    " s.sendmail(smtp_username, receiver_email, msg.as_string())\n",
    " \n",
    "\n",
    " # terminating the session after use\n",
    " s.quit()"
   ]
  },
  {
   "cell_type": "markdown",
   "id": "63f81e87",
   "metadata": {},
   "source": [
    "# OTP Generator"
   ]
  },
  {
   "cell_type": "code",
   "execution_count": null,
   "id": "f7c692ac",
   "metadata": {},
   "outputs": [],
   "source": [
    "# OTP generation function\n",
    "def gen_otp():\n",
    " otp = randrange(100000, 999999)\n",
    " return otp"
   ]
  },
  {
   "cell_type": "markdown",
   "id": "caeb418d",
   "metadata": {},
   "source": [
    "# Verification System"
   ]
  },
  {
   "cell_type": "code",
   "execution_count": null,
   "id": "4dd82c3c",
   "metadata": {},
   "outputs": [],
   "source": [
    "def verifier():\n",
    "    while True:\n",
    "        #To check the input format of the user       \n",
    "        user_input = input(\"Enter an email address: \")\n",
    "        if validate_email_format(user_input):\n",
    "            # To check valid email format\n",
    "            b = gen_otp()\n",
    "            send_email(user_input,b)\n",
    "            checker(b)\n",
    "            break  # Exiting the loop when a valid email is entered            \n",
    "        else:\n",
    "            print(\"Invalid email format. Please enter a valid email address.\")"
   ]
  },
  {
   "cell_type": "code",
   "execution_count": null,
   "id": "a63366f8",
   "metadata": {},
   "outputs": [],
   "source": [
    "# refernce to match the input format with user input\n",
    "def validate_email_format(email):\n",
    "    pattern = r'^.+@.+\\..+$'\n",
    "    return re.match(pattern, email) is not None"
   ]
  },
  {
   "cell_type": "code",
   "execution_count": null,
   "id": "aa0ae0df",
   "metadata": {},
   "outputs": [],
   "source": [
    "# Actual code working without GUI\n",
    "def checker(z):\n",
    "    max_attempts = 3\n",
    "    wait_time = 30  # delay time in seconds\n",
    "    failed_attempts = 0\n",
    "    \n",
    "    while failed_attempts < max_attempts:\n",
    "        \n",
    "        otp_input = int(input(\"Enter OTP sent to your entered email address: \"))                \n",
    "        if otp_input == z: \n",
    "            \n",
    "            print(\"Login Successful\")\n",
    "            break  # Exit the loop when a correct OTP is entered\n",
    "        \n",
    "        elif failed_attempts == 2:\n",
    "         print(f\"Maximum attempts reached. Please try again after {wait_time / 3} minutes.\")\n",
    "         break\n",
    "            \n",
    "        else:\n",
    "            \n",
    "            print(f\"Invalid OTP. {max_attempts - failed_attempts - 1} attempt remaining. Wait 30 secs to retry \")\n",
    "            time.sleep(wait_time)  # Wait for 30 seconds before the next attempt\n",
    "        failed_attempts += 1 "
   ]
  },
  {
   "cell_type": "code",
   "execution_count": null,
   "id": "9824762a",
   "metadata": {},
   "outputs": [],
   "source": [
    "# Running the OTP generation, verification system & checking it in jupyter notebook\n",
    "#verifier()"
   ]
  },
  {
   "cell_type": "markdown",
   "id": "107ca6d4",
   "metadata": {},
   "source": [
    "# PyQt6 GUI"
   ]
  },
  {
   "cell_type": "code",
   "execution_count": null,
   "id": "f92fd2ac",
   "metadata": {},
   "outputs": [],
   "source": [
    "class LogInApp(QWidget):\n",
    "    def __init__(self):\n",
    "        super().__init__()\n",
    "        self.initUI()\n",
    "        self.otp = None\n",
    "        self.setWindowTitle(\"💻 Log In\")\n",
    "        self.setGeometry(100, 100, 300, 250)\n",
    "        self.failed_attempts = 0\n",
    "            \n",
    "        \n",
    "    def initUI(self):\n",
    "        # Making the layout\n",
    "        layout = QVBoxLayout()\n",
    "\n",
    "        # Adding email Label and textbox (LineEdit) for entering valid email\n",
    "        self.email_label = QLabel('📨 Email')\n",
    "        self.email_input = QLineEdit()\n",
    "        layout.addWidget(self.email_label)\n",
    "        layout.addWidget(self.email_input)\n",
    "        \n",
    "\n",
    "        # Adding send otp push button (also verifies email for valid entry)\n",
    "        self.verify_email_btn = QPushButton('📤 Send OTP')\n",
    "        self.verify_email_btn.clicked.connect(self.send_otp)\n",
    "        layout.addWidget(self.verify_email_btn)\n",
    "        \n",
    "        # Adding otp Label and textbox (LineEdit) for entering sent otp over entered email\n",
    "        self.otp_label = QLabel('🔢 OTP')\n",
    "        self.otp_input = QLineEdit()\n",
    "        layout.addWidget(self.otp_label)\n",
    "        layout.addWidget(self.otp_input)\n",
    "\n",
    "        \n",
    "        # Adding verify OTP Button\n",
    "        self.verify_otp_btn = QPushButton('🚦Verify OTP')\n",
    "        self.verify_otp_btn.clicked.connect(self.verify_otp)\n",
    "        layout.addWidget(self.verify_otp_btn)\n",
    "\n",
    "        \n",
    "        # login session label with timer\n",
    "        self.timer_label = QLabel(\"Session ends in: 05:00\")\n",
    "        self.remaining_time = 300    # 5 minutes in seconds, defined session timing\n",
    "        layout.addWidget(self.timer_label)\n",
    "        self.timer = QTimer(self)\n",
    "        self.timer.timeout.connect(self.update_timer)\n",
    "        self.timer.start(1000)     # Updating time every second\n",
    "        \n",
    "        \n",
    "        # Setting the layout\n",
    "        self.setLayout(layout)\n",
    "\n",
    "    # verifying the entered email & sending otp to valid entered email address    \n",
    "    def send_otp(self):\n",
    "        email = self.email_input.text()\n",
    "        if validate_email_format(email):\n",
    "            self.otp = gen_otp()\n",
    "            send_email(email, self.otp)\n",
    "            self.email_input.setDisabled(True)\n",
    "            self.verify_email_btn.setDisabled(True)\n",
    "            QMessageBox.information(self, 'OTP Sent', 'OTP has been sent to the email address')\n",
    "        else:\n",
    "            QMessageBox.warning(self, 'Invalid Email', 'Invalid email!!! Please enter a valid email address')\n",
    "\n",
    "     \n",
    "    # verifying the entered otp received over email           \n",
    "    def verify_otp(self):\n",
    "        try:\n",
    "            user_otp = int(self.otp_input.text())\n",
    "            if user_otp == self.otp:\n",
    "                QMessageBox.information(self, 'Login Successful', 'Login Successful')\n",
    "                self.close()  # Closing the form after successful login\n",
    "            elif self.failed_attempts == 2:\n",
    "                QMessageBox.critical(self, 'Login Failed', 'Maximum attempts reached. Please try again after 10 minutes')\n",
    "                self.close()  # Closing the form after acknowledging the failure message\n",
    "            else:\n",
    "                self.failed_attempts += 1\n",
    "                self.otp_input.clear()  # Clearing the entered OTP\n",
    "                self.otp_input.setDisabled(True)  # Disabling the OTP input for 30 seconds\n",
    "                QTimer.singleShot(30000, self.enable_otp_input)  # Enabling the OTP textbox after 30 seconds\n",
    "                QMessageBox.warning(self, 'Invalid OTP', f'Invalid OTP. {3 - self.failed_attempts} attempt(s) remaining. Wait 30 secs to retry')\n",
    "        \n",
    "        except ValueError:\n",
    "            QMessageBox.warning(self, 'Invalid Input', 'Please enter only integers for the OTP.')\n",
    "            self.otp_input.clear()  # Clearing the entered OTP\n",
    "            \n",
    "        \n",
    "    def enable_otp_input(self):\n",
    "        self.otp_input.setDisabled(False)  # Enabling the OTP textbox after 30 seconds\n",
    "\n",
    "  \n",
    "    # calculating & updating the session timer\n",
    "    def update_timer(self):\n",
    "        self.remaining_time -= 1\n",
    "        minutes = self.remaining_time // 60\n",
    "        seconds = self.remaining_time % 60\n",
    "        self.timer_label.setText(f\"Session ends in: {minutes:02}:{seconds:02}\")\n",
    "\n",
    "        if self.remaining_time == 0:\n",
    "            self.timer.stop()\n",
    "            QMessageBox.critical(self, \"Time Exceeded\", \"Session time exceeded. Please try again after 10 minutes\")\n",
    "            self.close()\n",
    "    \n",
    "    \n",
    "# Main function to run the application\n",
    "def main():\n",
    "    app = QApplication(sys.argv)   # creating instance of QApplication\n",
    "    ex = LogInApp()\n",
    "    ex.show()\n",
    "    sys.exit(app.exec())           # creates actial instance waits for user inputs all loops to execute and closes after the event\n",
    "\n",
    "if __name__ == '__main__':         # execute the following code only if this file is run as a script from the command line\n",
    "    main()"
   ]
  },
  {
   "cell_type": "code",
   "execution_count": null,
   "id": "fdedef87",
   "metadata": {},
   "outputs": [],
   "source": []
  },
  {
   "cell_type": "code",
   "execution_count": null,
   "id": "3e74929e",
   "metadata": {},
   "outputs": [],
   "source": []
  }
 ],
 "metadata": {
  "kernelspec": {
   "display_name": "Python 3 (ipykernel)",
   "language": "python",
   "name": "python3"
  },
  "language_info": {
   "codemirror_mode": {
    "name": "ipython",
    "version": 3
   },
   "file_extension": ".py",
   "mimetype": "text/x-python",
   "name": "python",
   "nbconvert_exporter": "python",
   "pygments_lexer": "ipython3",
   "version": "3.11.7"
  },
  "varInspector": {
   "cols": {
    "lenName": 16,
    "lenType": 16,
    "lenVar": 40
   },
   "kernels_config": {
    "python": {
     "delete_cmd_postfix": "",
     "delete_cmd_prefix": "del ",
     "library": "var_list.py",
     "varRefreshCmd": "print(var_dic_list())"
    },
    "r": {
     "delete_cmd_postfix": ") ",
     "delete_cmd_prefix": "rm(",
     "library": "var_list.r",
     "varRefreshCmd": "cat(var_dic_list()) "
    }
   },
   "types_to_exclude": [
    "module",
    "function",
    "builtin_function_or_method",
    "instance",
    "_Feature"
   ],
   "window_display": false
  }
 },
 "nbformat": 4,
 "nbformat_minor": 5
}
